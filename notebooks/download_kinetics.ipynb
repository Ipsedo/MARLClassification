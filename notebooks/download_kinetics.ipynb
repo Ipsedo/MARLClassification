{
 "cells": [
  {
   "cell_type": "code",
   "execution_count": 1,
   "metadata": {
    "collapsed": true
   },
   "outputs": [],
   "source": [
    "import pandas as pd\n",
    "from pytube import YouTube\n",
    "from os import mkdir, remove\n",
    "from os.path import join, splitext, basename\n",
    "import subprocess\n",
    "import glob\n",
    "from tqdm import tqdm"
   ]
  },
  {
   "cell_type": "code",
   "execution_count": 2,
   "outputs": [],
   "source": [
    "train_csv_path = \"../resources/downloaded/kinetics700_2020/train.csv\"\n",
    "output_dir = \"../resources/downloaded/kinetics700_2020/videos\""
   ],
   "metadata": {
    "collapsed": false
   }
  },
  {
   "cell_type": "code",
   "execution_count": 10,
   "outputs": [
    {
     "ename": "FileExistsError",
     "evalue": "[Errno 17] File exists: '../resources/downloaded/kinetics700_2020/videos'",
     "output_type": "error",
     "traceback": [
      "\u001B[0;31m---------------------------------------------------------------------------\u001B[0m",
      "\u001B[0;31mFileExistsError\u001B[0m                           Traceback (most recent call last)",
      "Cell \u001B[0;32mIn [10], line 1\u001B[0m\n\u001B[0;32m----> 1\u001B[0m \u001B[43mmkdir\u001B[49m\u001B[43m(\u001B[49m\u001B[43moutput_dir\u001B[49m\u001B[43m)\u001B[49m\n",
      "\u001B[0;31mFileExistsError\u001B[0m: [Errno 17] File exists: '../resources/downloaded/kinetics700_2020/videos'"
     ]
    }
   ],
   "source": [
    "mkdir(output_dir)"
   ],
   "metadata": {
    "collapsed": false
   }
  },
  {
   "cell_type": "code",
   "execution_count": 3,
   "outputs": [],
   "source": [
    "df_train = pd.read_csv(train_csv_path, sep=\",\", header=0)"
   ],
   "metadata": {
    "collapsed": false
   }
  },
  {
   "cell_type": "code",
   "execution_count": 4,
   "outputs": [],
   "source": [
    "failed_youtube_id = set()"
   ],
   "metadata": {
    "collapsed": false
   }
  },
  {
   "cell_type": "code",
   "execution_count": 5,
   "outputs": [],
   "source": [
    "already_downloaded_videos = set(splitext(basename(f))[0] for f in glob.glob(join(output_dir, f\"*.mp4\")))"
   ],
   "metadata": {
    "collapsed": false
   }
  },
  {
   "cell_type": "code",
   "execution_count": null,
   "outputs": [
    {
     "name": "stderr",
     "output_type": "stream",
     "text": [
      "Skipped 57, failed 12522, done 156:   7%|▋         | 12735/178845 [2:34:18<32:47:12,  1.41it/s] "
     ]
    }
   ],
   "source": [
    "tqdm_bar = tqdm(list(df_train.iterrows())[144061+210000:])\n",
    "skipped = 0\n",
    "failed = 0\n",
    "done = 0\n",
    "\n",
    "for i, row in tqdm_bar:\n",
    "    youtube_id = row[\"youtube_id\"]\n",
    "    time_start = row[\"time_start\"]\n",
    "    time_end = row[\"time_end\"]\n",
    "\n",
    "    if youtube_id in already_downloaded_videos or youtube_id in failed_youtube_id:\n",
    "        skipped += 1\n",
    "        continue\n",
    "\n",
    "    label = row[\"label\"]\n",
    "    try:\n",
    "        (\n",
    "            YouTube(f\"https://youtube.com/watch?v={youtube_id}\")\n",
    "            .streams\n",
    "            .filter(res=\"360p\", fps=30, file_extension=\"mp4\")\n",
    "            .first()\n",
    "            .download(output_dir, filename=f\"tmp_{youtube_id}.mp4\")\n",
    "        )\n",
    "\n",
    "        subprocess.run(\n",
    "            [\n",
    "                \"ffmpeg\",\n",
    "                \"-y\",\n",
    "                \"-ss\",\n",
    "                str(time_start),\n",
    "                \"-i\",\n",
    "                join(output_dir, f\"tmp_{youtube_id}.mp4\"),\n",
    "                \"-t\",\n",
    "                \"10\",\n",
    "                \"-c\",\n",
    "                \"copy\",\n",
    "                join(output_dir, f\"{youtube_id}.mp4\"),\n",
    "                \"-hide_banner\",\n",
    "                \"-loglevel\",\n",
    "                \"error\",\n",
    "            ]\n",
    "        )\n",
    "        remove(join(output_dir, f\"tmp_{youtube_id}.mp4\"))\n",
    "\n",
    "        done += 1\n",
    "    except Exception:\n",
    "        failed += 1\n",
    "        failed_youtube_id.add(youtube_id)\n",
    "\n",
    "    tqdm_bar.set_description(f\"Skipped {skipped}, failed {failed}, done {done}\")"
   ],
   "metadata": {
    "collapsed": false,
    "pycharm": {
     "is_executing": true
    }
   }
  },
  {
   "cell_type": "markdown",
   "source": [],
   "metadata": {
    "collapsed": false
   },
   "outputs": [
    {
     "name": "stderr",
     "output_type": "stream",
     "text": [
      "Skipped 44120, failed 42956, done 21965: : 109041it [36:31:50,  2.47s/it]"
     ]
    }
   ]
  },
  {
   "cell_type": "code",
   "execution_count": null,
   "outputs": [],
   "source": [],
   "metadata": {
    "collapsed": false,
    "pycharm": {
     "is_executing": true
    }
   }
  }
 ],
 "metadata": {
  "kernelspec": {
   "display_name": "Python 3",
   "language": "python",
   "name": "python3"
  },
  "language_info": {
   "codemirror_mode": {
    "name": "ipython",
    "version": 2
   },
   "file_extension": ".py",
   "mimetype": "text/x-python",
   "name": "python",
   "nbconvert_exporter": "python",
   "pygments_lexer": "ipython2",
   "version": "2.7.6"
  }
 },
 "nbformat": 4,
 "nbformat_minor": 0
}

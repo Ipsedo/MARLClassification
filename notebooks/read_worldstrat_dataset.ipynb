{
 "cells": [
  {
   "cell_type": "code",
   "execution_count": null,
   "id": "3ee6f9ac",
   "metadata": {},
   "outputs": [],
   "source": [
    "from PIL import Image\n",
    "import torch as th\n",
    "import numpy as np\n",
    "import pandas as pd"
   ]
  },
  {
   "cell_type": "code",
   "execution_count": null,
   "id": "04d89928",
   "metadata": {},
   "outputs": [],
   "source": [
    "bug_png_path = \"/home/samuel/PycharmProjects/MARLClassification/resources/downloaded/WorldStrat/UNHCR-UGAs032269/UNHCR-UGAs032269_rgb.png\"\n",
    "bug_png_path = \"/home/samuel/PycharmProjects/MARLClassification/resources/downloaded/WorldStrat/Landcover-842467/Landcover-842467_rgb.png\"\n",
    "bug_png = Image.open(bug_png_path)"
   ]
  },
  {
   "cell_type": "code",
   "execution_count": null,
   "id": "4e01f7f0",
   "metadata": {},
   "outputs": [],
   "source": [
    "bug_png.convert(\"RGB\")"
   ]
  },
  {
   "cell_type": "code",
   "execution_count": null,
   "id": "f8eedca8",
   "metadata": {},
   "outputs": [],
   "source": [
    "metadata = pd.read_csv(\n",
    "    \"/home/samuel/PycharmProjects/MARLClassification/resources/downloaded/WorldStrat/metadata.csv\",\n",
    "    quotechar='\"'\n",
    ")"
   ]
  },
  {
   "cell_type": "code",
   "execution_count": null,
   "id": "bc1241aa",
   "metadata": {},
   "outputs": [],
   "source": [
    "metadata"
   ]
  },
  {
   "cell_type": "code",
   "execution_count": null,
   "id": "f3196b60",
   "metadata": {},
   "outputs": [],
   "source": [
    "(\n",
    "    metadata.dropna()\n",
    "    .rename(columns={\"Unnamed: 0\": \"folder_name\"})\n",
    "    .groupby(\"IPCC Class\")[[\"folder_name\"]]\n",
    "    .count()\n",
    ")"
   ]
  },
  {
   "cell_type": "code",
   "execution_count": null,
   "id": "977c10c1",
   "metadata": {},
   "outputs": [],
   "source": [
    "(\n",
    "    metadata.dropna()\n",
    "    .rename(columns={\"Unnamed: 0\": \"folder_name\"})\n",
    "    .groupby(\"LCCS class\")[[\"folder_name\"]]\n",
    "    .count()\n",
    ")"
   ]
  },
  {
   "cell_type": "code",
   "execution_count": null,
   "id": "351a2ebc",
   "metadata": {},
   "outputs": [],
   "source": [
    "len(\n",
    "    metadata.dropna()\n",
    "    .rename(columns={\"Unnamed: 0\": \"folder_name\"})\n",
    "    [metadata.dropna()[\"LCCS class\"] != \"Urban areas\"]\n",
    "    .groupby(\"LCCS class\")[[\"folder_name\", \"LCCS class\"]]\n",
    "    .first()[\"LCCS class\"]\n",
    "    .unique()\n",
    ")"
   ]
  },
  {
   "cell_type": "code",
   "execution_count": null,
   "id": "6beb54a6",
   "metadata": {},
   "outputs": [],
   "source": [
    "metatada_2 = (\n",
    "    metadata.dropna()\n",
    "    .rename(columns={\"Unnamed: 0\": \"folder_name\"})\n",
    "    .groupby(\"folder_name\")[[\"folder_name\", \"IPCC Class\"]]\n",
    "    .first()\n",
    ")"
   ]
  },
  {
   "cell_type": "code",
   "execution_count": null,
   "id": "d2437bbe",
   "metadata": {},
   "outputs": [],
   "source": [
    "len(metatada_2)"
   ]
  },
  {
   "cell_type": "code",
   "execution_count": null,
   "id": "bde532c2",
   "metadata": {},
   "outputs": [],
   "source": [
    "metatada_2.columns"
   ]
  },
  {
   "cell_type": "code",
   "execution_count": null,
   "id": "93092230",
   "metadata": {},
   "outputs": [],
   "source": [
    "metatada_2[metatada_2[\"IPCC Class\"] == \"Forest\"]"
   ]
  },
  {
   "cell_type": "code",
   "execution_count": null,
   "id": "9255726b",
   "metadata": {},
   "outputs": [],
   "source": [
    "metatada_2.iloc[0]"
   ]
  },
  {
   "cell_type": "code",
   "execution_count": null,
   "id": "7de99f9f",
   "metadata": {},
   "outputs": [],
   "source": [
    "class_to_idx = (\n",
    "    sorted(metatada_2[\"IPCC Class\"].unique())\n",
    ")"
   ]
  },
  {
   "cell_type": "code",
   "execution_count": null,
   "id": "c243041a",
   "metadata": {},
   "outputs": [],
   "source": [
    "len(class_to_idx)"
   ]
  },
  {
   "cell_type": "code",
   "execution_count": null,
   "id": "6511b67e",
   "metadata": {},
   "outputs": [],
   "source": [
    "metadata.groupby([\"IPCC Class\"])[\"IPCC Class\"].count()"
   ]
  },
  {
   "cell_type": "code",
   "execution_count": null,
   "id": "d4182cfb",
   "metadata": {},
   "outputs": [],
   "source": [
    "metadata.groupby([\"SMOD Class\"])[\"SMOD Class\"].count()"
   ]
  },
  {
   "cell_type": "code",
   "execution_count": null,
   "id": "5456902c",
   "metadata": {},
   "outputs": [],
   "source": [
    "metadata.groupby([\"LCCS class\"])[\"LCCS class\"].count()"
   ]
  },
  {
   "cell_type": "code",
   "execution_count": null,
   "id": "6be458f5",
   "metadata": {},
   "outputs": [],
   "source": [
    "len(metadata)"
   ]
  },
  {
   "cell_type": "code",
   "execution_count": null,
   "id": "66f549e3",
   "metadata": {},
   "outputs": [],
   "source": [
    "metadata"
   ]
  },
  {
   "cell_type": "code",
   "execution_count": null,
   "id": "bd134508",
   "metadata": {},
   "outputs": [],
   "source": [
    "def open_img(path):\n",
    "    image = np.array(Image.open(path)).astype(np.float32)"
   ]
  },
  {
   "cell_type": "code",
   "execution_count": null,
   "id": "7f511c23",
   "metadata": {},
   "outputs": [],
   "source": [
    "img_path = \"/home/samuel/PycharmProjects/MARLClassification/resources/downloaded/WorldStrat/Landcover-1005247/Landcover-1005247_rgb.png\"\n",
    "img_path = \"/home/samuel/PycharmProjects/MARLClassification/resources/downloaded/WorldStrat/Landcover-1885518/Landcover-1885518_rgb.png\"\n",
    "img_path = \"/home/samuel/PycharmProjects/MARLClassification/resources/downloaded/WorldStrat/UNHCR-CMRs005230/UNHCR-CMRs005230_rgb.png\"\n",
    "img_path = \"/home/samuel/PycharmProjects/MARLClassification/resources/downloaded/WorldStrat/UNHCR-TURs005204/UNHCR-TURs005204_rgb.png\"\n",
    "img_path = \"/home/samuel/PycharmProjects/MARLClassification/resources/downloaded/WorldStrat/Landcover-771336/Landcover-771336_rgb.png\"\n",
    "#img_path = \"/home/samuel/PycharmProjects/MARLClassification/resources/downloaded/WorldStrat/UNHCR-YEMs004682/UNHCR-YEMs004682_rgb.png\""
   ]
  },
  {
   "cell_type": "code",
   "execution_count": null,
   "id": "6b125b84",
   "metadata": {},
   "outputs": [],
   "source": [
    "img = Image.open(img_path).convert(\"RGB\")"
   ]
  },
  {
   "cell_type": "code",
   "execution_count": null,
   "id": "7eba7597",
   "metadata": {},
   "outputs": [],
   "source": [
    "img"
   ]
  },
  {
   "cell_type": "code",
   "execution_count": null,
   "id": "bc7666a6",
   "metadata": {},
   "outputs": [],
   "source": [
    "import matplotlib.pyplot as plt"
   ]
  },
  {
   "cell_type": "code",
   "execution_count": null,
   "id": "af75c3b2",
   "metadata": {},
   "outputs": [],
   "source": [
    "for r in range(img.shape[2]):\n",
    "    print(r, img[:, :, r].max(), img[:, :, r].min())"
   ]
  },
  {
   "cell_type": "code",
   "execution_count": null,
   "id": "7fc5c238",
   "metadata": {},
   "outputs": [],
   "source": [
    "plt.matshow(img[:, :, :3] / img[:, :, :3].max(axis=(0, 1)))"
   ]
  },
  {
   "cell_type": "code",
   "execution_count": null,
   "id": "79ee7d42",
   "metadata": {},
   "outputs": [],
   "source": [
    "plt.matshow(img[:, :, 3] / img[:, :, 3].max(axis=(0, 1)))"
   ]
  },
  {
   "cell_type": "code",
   "execution_count": null,
   "id": "ffa95a53",
   "metadata": {},
   "outputs": [],
   "source": [
    "tiff_path = \"/home/samuel/PycharmProjects/MARLClassification/resources/downloaded/WorldStrat/UNHCR-CMRs005230/UNHCR-CMRs005230_ps.tiff\"\n",
    "#tiff_path = \"/home/samuel/PycharmProjects/MARLClassification/resources/downloaded/WorldStrat/UNHCR-CMRs005230/UNHCR-CMRs005230_rgbn.tiff\"\n",
    "tiff_path = \"/home/samuel/PycharmProjects/MARLClassification/resources/downloaded/WorldStrat/Landcover-771336/Landcover-771336_ps.tiff\""
   ]
  },
  {
   "cell_type": "code",
   "execution_count": null,
   "id": "34dd9647",
   "metadata": {},
   "outputs": [],
   "source": [
    "import tifffile as tiff\n",
    "a = tiff.imread(tiff_path)"
   ]
  },
  {
   "cell_type": "code",
   "execution_count": null,
   "id": "97ac0ee0",
   "metadata": {},
   "outputs": [],
   "source": [
    "a.dtype"
   ]
  },
  {
   "cell_type": "code",
   "execution_count": null,
   "id": "c225f424",
   "metadata": {},
   "outputs": [],
   "source": [
    "for c in range(4):\n",
    "    print(c, a[:, :, c].max(), a[:, :, c].min())"
   ]
  },
  {
   "cell_type": "code",
   "execution_count": null,
   "id": "1522334d",
   "metadata": {},
   "outputs": [],
   "source": [
    "a.shape, a.max(), a.min(), a[:, :, :3].max(), a[:, :, :3].min(), 2. ** 14"
   ]
  },
  {
   "cell_type": "code",
   "execution_count": null,
   "id": "1c803bd8",
   "metadata": {},
   "outputs": [],
   "source": [
    "plt.matshow(a / a.max())\n",
    "plt.matshow(a[:, :, :3] / a[:, :, :3].max(axis=(0, 1)))"
   ]
  },
  {
   "cell_type": "code",
   "execution_count": null,
   "id": "67fc4615",
   "metadata": {},
   "outputs": [],
   "source": [
    "from PIL import TiffImagePlugin\n",
    "TiffImagePlugin.DEBUG = True\n",
    "with open(tiff_path, 'rb') as f:\n",
    "    TiffImagePlugin.TiffImageFile(f)"
   ]
  },
  {
   "cell_type": "code",
   "execution_count": null,
   "id": "43b75a47",
   "metadata": {},
   "outputs": [],
   "source": []
  }
 ],
 "metadata": {
  "kernelspec": {
   "display_name": "Python 3 (ipykernel)",
   "language": "python",
   "name": "python3"
  },
  "language_info": {
   "codemirror_mode": {
    "name": "ipython",
    "version": 3
   },
   "file_extension": ".py",
   "mimetype": "text/x-python",
   "name": "python",
   "nbconvert_exporter": "python",
   "pygments_lexer": "ipython3",
   "version": "3.10.8"
  }
 },
 "nbformat": 4,
 "nbformat_minor": 5
}

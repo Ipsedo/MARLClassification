{
 "cells": [
  {
   "cell_type": "code",
   "execution_count": null,
   "id": "3ee6f9ac",
   "metadata": {},
   "outputs": [],
   "source": [
    "from PIL import Image\n",
    "import torch as th\n",
    "import numpy as np"
   ]
  },
  {
   "cell_type": "code",
   "execution_count": null,
   "id": "bd134508",
   "metadata": {},
   "outputs": [],
   "source": [
    "def open_img(path):\n",
    "    image = np.array(Image.open(path)).astype(np.float32)\n",
    "    if len(image.shape) == 2:  # 2D/grayscale\n",
    "        return image[None, ...]\n",
    "    else:\n",
    "        return image"
   ]
  },
  {
   "cell_type": "code",
   "execution_count": null,
   "id": "d36f92a2",
   "metadata": {},
   "outputs": [],
   "source": [
    "help(Image.open)"
   ]
  },
  {
   "cell_type": "code",
   "execution_count": null,
   "id": "7f511c23",
   "metadata": {},
   "outputs": [],
   "source": [
    "img_path = \"/home/samuel/PycharmProjects/MARLClassification/resources/downloaded/WroldStrat/Landcover-1005247/Landcover-1005247_rgb.png\"\n",
    "img_path = \"/home/samuel/PycharmProjects/MARLClassification/resources/downloaded/WroldStrat/Landcover-1885518/Landcover-1885518_rgb.png\"\n",
    "img_path = \"/home/samuel/PycharmProjects/MARLClassification/resources/downloaded/WroldStrat/UNHCR-CMRs005230/UNHCR-CMRs005230_rgb.png\"\n",
    "img_path = \"/home/samuel/PycharmProjects/MARLClassification/resources/downloaded/WroldStrat/UNHCR-TURs005204/UNHCR-TURs005204_rgb.png\""
   ]
  },
  {
   "cell_type": "code",
   "execution_count": null,
   "id": "6b125b84",
   "metadata": {},
   "outputs": [],
   "source": [
    "img = open_img(img_path)"
   ]
  },
  {
   "cell_type": "code",
   "execution_count": null,
   "id": "7eba7597",
   "metadata": {},
   "outputs": [],
   "source": [
    "img.shape"
   ]
  },
  {
   "cell_type": "code",
   "execution_count": null,
   "id": "bc7666a6",
   "metadata": {},
   "outputs": [],
   "source": [
    "import matplotlib.pyplot as plt"
   ]
  },
  {
   "cell_type": "code",
   "execution_count": null,
   "id": "af75c3b2",
   "metadata": {},
   "outputs": [],
   "source": [
    "for r in range(img.shape[2]):\n",
    "    print(r, img[:, :, r].max(), img[:, :, r].min())"
   ]
  },
  {
   "cell_type": "code",
   "execution_count": null,
   "id": "7fc5c238",
   "metadata": {},
   "outputs": [],
   "source": [
    "plt.matshow(img[:, :, :] / 255.)"
   ]
  },
  {
   "cell_type": "code",
   "execution_count": null,
   "id": "ffa95a53",
   "metadata": {},
   "outputs": [],
   "source": [
    "tiff_path = \"/home/samuel/PycharmProjects/MARLClassification/resources/downloaded/WroldStrat/UNHCR-CMRs005230/UNHCR-CMRs005230_ps.tiff\"\n",
    "tiff_path = \"/home/samuel/PycharmProjects/MARLClassification/resources/downloaded/WroldStrat/UNHCR-CMRs005230/UNHCR-CMRs005230_rgbn.tiff\""
   ]
  },
  {
   "cell_type": "code",
   "execution_count": null,
   "id": "1a97d69a",
   "metadata": {},
   "outputs": [],
   "source": [
    "tiff_img = Image.open(tiff_path)"
   ]
  },
  {
   "cell_type": "code",
   "execution_count": null,
   "id": "a88c996e",
   "metadata": {},
   "outputs": [],
   "source": [
    "from tiff import tiff"
   ]
  },
  {
   "cell_type": "code",
   "execution_count": null,
   "id": "5d8b7d68",
   "metadata": {},
   "outputs": [],
   "source": [
    "tiff_img = tiff.GeoTiff(tiff_path)"
   ]
  },
  {
   "cell_type": "code",
   "execution_count": null,
   "id": "67fc4615",
   "metadata": {},
   "outputs": [],
   "source": []
  }
 ],
 "metadata": {
  "kernelspec": {
   "display_name": "Python 3 (ipykernel)",
   "language": "python",
   "name": "python3"
  },
  "language_info": {
   "codemirror_mode": {
    "name": "ipython",
    "version": 3
   },
   "file_extension": ".py",
   "mimetype": "text/x-python",
   "name": "python",
   "nbconvert_exporter": "python",
   "pygments_lexer": "ipython3",
   "version": "3.10.8"
  }
 },
 "nbformat": 4,
 "nbformat_minor": 5
}
